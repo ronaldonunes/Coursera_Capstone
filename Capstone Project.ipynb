{
 "cells": [
  {
   "cell_type": "markdown",
   "id": "5378f4ee",
   "metadata": {},
   "source": [
    "### Correlation between number of venues and  Human Development Index (HDI) for each neighborhood in São Paulo"
   ]
  },
  {
   "cell_type": "markdown",
   "id": "fece2304",
   "metadata": {},
   "source": [
    "#### Ronaldo Nunes"
   ]
  },
  {
   "cell_type": "markdown",
   "id": "6e1efcf7",
   "metadata": {},
   "source": [
    "\n",
    "São Paulo is the world's 4th largest city proper by population and the capital of the surrounding state of São Paulo, the most populous and wealthiest state in Brazil. It exerts strong international influences in commerce, finance, arts, and entertainment. Like most of the big cities, São Paulo has a lot of problems. One of the most critical problems in São Paulo is the lousy distribution of leisure and cultural places in the city. Most options are concentrated in wealthy neighborhoods with hard access for people who live in the suburbs. In this work, I will evaluate the correlation between the number of venues and the human development index for each neighborhood in São Paulo."
   ]
  },
  {
   "cell_type": "markdown",
   "id": "06ecb226",
   "metadata": {},
   "source": [
    "### Data"
   ]
  },
  {
   "cell_type": "code",
   "execution_count": null,
   "id": "d04aa6f8",
   "metadata": {},
   "outputs": [],
   "source": [
    "Foursquare data to get the venues \n"
   ]
  }
 ],
 "metadata": {
  "kernelspec": {
   "display_name": "Python 3",
   "language": "python",
   "name": "python3"
  },
  "language_info": {
   "codemirror_mode": {
    "name": "ipython",
    "version": 3
   },
   "file_extension": ".py",
   "mimetype": "text/x-python",
   "name": "python",
   "nbconvert_exporter": "python",
   "pygments_lexer": "ipython3",
   "version": "3.7.9"
  }
 },
 "nbformat": 4,
 "nbformat_minor": 5
}
